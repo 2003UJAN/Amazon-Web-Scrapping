{
  "cells": [
    {
      "cell_type": "markdown",
      "metadata": {
        "id": "view-in-github",
        "colab_type": "text"
      },
      "source": [
        "<a href=\"https://colab.research.google.com/github/2003UJAN/Amazon-Web-Scrapping/blob/main/Amazon_Web_Scrapping.ipynb\" target=\"_parent\"><img src=\"https://colab.research.google.com/assets/colab-badge.svg\" alt=\"Open In Colab\"/></a>"
      ]
    },
    {
      "cell_type": "code",
      "source": [
        "!pip install requests beautifulsoup4 pandas selenium\n"
      ],
      "metadata": {
        "id": "rwT6YP7s8mCP",
        "outputId": "11a16b4c-5e9a-484a-d0bc-3fa0fdcd4df9",
        "colab": {
          "base_uri": "https://localhost:8080/"
        }
      },
      "execution_count": 9,
      "outputs": [
        {
          "output_type": "stream",
          "name": "stdout",
          "text": [
            "Requirement already satisfied: requests in /usr/local/lib/python3.10/dist-packages (2.32.3)\n",
            "Requirement already satisfied: beautifulsoup4 in /usr/local/lib/python3.10/dist-packages (4.12.3)\n",
            "Requirement already satisfied: pandas in /usr/local/lib/python3.10/dist-packages (2.2.2)\n",
            "Requirement already satisfied: selenium in /usr/local/lib/python3.10/dist-packages (4.27.1)\n",
            "Requirement already satisfied: charset-normalizer<4,>=2 in /usr/local/lib/python3.10/dist-packages (from requests) (3.4.0)\n",
            "Requirement already satisfied: idna<4,>=2.5 in /usr/local/lib/python3.10/dist-packages (from requests) (3.10)\n",
            "Requirement already satisfied: urllib3<3,>=1.21.1 in /usr/local/lib/python3.10/dist-packages (from requests) (2.2.3)\n",
            "Requirement already satisfied: certifi>=2017.4.17 in /usr/local/lib/python3.10/dist-packages (from requests) (2024.8.30)\n",
            "Requirement already satisfied: soupsieve>1.2 in /usr/local/lib/python3.10/dist-packages (from beautifulsoup4) (2.6)\n",
            "Requirement already satisfied: numpy>=1.22.4 in /usr/local/lib/python3.10/dist-packages (from pandas) (1.26.4)\n",
            "Requirement already satisfied: python-dateutil>=2.8.2 in /usr/local/lib/python3.10/dist-packages (from pandas) (2.8.2)\n",
            "Requirement already satisfied: pytz>=2020.1 in /usr/local/lib/python3.10/dist-packages (from pandas) (2024.2)\n",
            "Requirement already satisfied: tzdata>=2022.7 in /usr/local/lib/python3.10/dist-packages (from pandas) (2024.2)\n",
            "Requirement already satisfied: trio~=0.17 in /usr/local/lib/python3.10/dist-packages (from selenium) (0.27.0)\n",
            "Requirement already satisfied: trio-websocket~=0.9 in /usr/local/lib/python3.10/dist-packages (from selenium) (0.11.1)\n",
            "Requirement already satisfied: typing_extensions~=4.9 in /usr/local/lib/python3.10/dist-packages (from selenium) (4.12.2)\n",
            "Requirement already satisfied: websocket-client~=1.8 in /usr/local/lib/python3.10/dist-packages (from selenium) (1.8.0)\n",
            "Requirement already satisfied: six>=1.5 in /usr/local/lib/python3.10/dist-packages (from python-dateutil>=2.8.2->pandas) (1.17.0)\n",
            "Requirement already satisfied: attrs>=23.2.0 in /usr/local/lib/python3.10/dist-packages (from trio~=0.17->selenium) (24.2.0)\n",
            "Requirement already satisfied: sortedcontainers in /usr/local/lib/python3.10/dist-packages (from trio~=0.17->selenium) (2.4.0)\n",
            "Requirement already satisfied: outcome in /usr/local/lib/python3.10/dist-packages (from trio~=0.17->selenium) (1.3.0.post0)\n",
            "Requirement already satisfied: sniffio>=1.3.0 in /usr/local/lib/python3.10/dist-packages (from trio~=0.17->selenium) (1.3.1)\n",
            "Requirement already satisfied: exceptiongroup in /usr/local/lib/python3.10/dist-packages (from trio~=0.17->selenium) (1.2.2)\n",
            "Requirement already satisfied: wsproto>=0.14 in /usr/local/lib/python3.10/dist-packages (from trio-websocket~=0.9->selenium) (1.2.0)\n",
            "Requirement already satisfied: pysocks!=1.5.7,<2.0,>=1.5.6 in /usr/local/lib/python3.10/dist-packages (from urllib3[socks]<3,>=1.26->selenium) (1.7.1)\n",
            "Requirement already satisfied: h11<1,>=0.9.0 in /usr/local/lib/python3.10/dist-packages (from wsproto>=0.14->trio-websocket~=0.9->selenium) (0.14.0)\n"
          ]
        }
      ]
    },
    {
      "cell_type": "code",
      "source": [
        "import requests\n",
        "from bs4 import BeautifulSoup\n",
        "import pandas as pd"
      ],
      "metadata": {
        "id": "s7tcaKj4zkDA"
      },
      "execution_count": 10,
      "outputs": []
    },
    {
      "cell_type": "code",
      "source": [
        "headers = {\n",
        "    \"User-Agent\": \"Mozilla/5.0 (Windows NT 10.0; Win64; x64) AppleWebKit/537.36 (KHTML, like Gecko) Chrome/91.0.4472.124 Safari/537.36\",\n",
        "    \"Accept-Language\": \"en-US,en;q=0.9\",\n",
        "    \"Accept-Encoding\": \"gzip, deflate, br\",\n",
        "    \"Accept\": \"text/html,application/xhtml+xml,application/xml;q=0.9\",\n",
        "}"
      ],
      "metadata": {
        "id": "nxFfxm_sznnI"
      },
      "execution_count": 11,
      "outputs": []
    },
    {
      "cell_type": "code",
      "source": [
        "url = \"https://www.amazon.in/s?k=laptops\"\n",
        "response = requests.get(url, headers=headers)"
      ],
      "metadata": {
        "id": "vhir3vZTzq-M"
      },
      "execution_count": 12,
      "outputs": []
    },
    {
      "cell_type": "code",
      "source": [
        "if response.status_code == 200:\n",
        "    soup = BeautifulSoup(response.content, 'html.parser')\n",
        "    # Print a sample of the parsed HTML to debug the structure\n",
        "    print(soup.prettify()[:1000])  # Print the first 1000 characters for review\n",
        "else:\n",
        "    print(f\"Failed to retrieve data: {response.status_code}\")"
      ],
      "metadata": {
        "colab": {
          "base_uri": "https://localhost:8080/"
        },
        "id": "rUjEOwzaGGbL",
        "outputId": "92e0c111-7480-45df-d784-ed987390a891"
      },
      "execution_count": 13,
      "outputs": [
        {
          "output_type": "stream",
          "name": "stdout",
          "text": [
            "<!DOCTYPE html>\n",
            "<html class=\"a-no-js\" data-19ax5a9jf=\"dingo\" lang=\"en-in\">\n",
            " <!-- sp:feature:head-start -->\n",
            " <head>\n",
            "  <script>\n",
            "   var aPageStart = (new Date()).getTime();\n",
            "  </script>\n",
            "  <meta charset=\"utf-8\"/>\n",
            "  <!-- sp:end-feature:head-start -->\n",
            "  <!-- sp:feature:csm:head-open-part1 -->\n",
            "  <script type=\"text/javascript\">\n",
            "   var ue_t0=ue_t0||+new Date();\n",
            "  </script>\n",
            "  <!-- sp:end-feature:csm:head-open-part1 -->\n",
            "  <!-- sp:feature:cs-optimization -->\n",
            "  <meta content=\"on\" http-equiv=\"x-dns-prefetch-control\"/>\n",
            "  <link href=\"https://images-eu.ssl-images-amazon.com\" rel=\"dns-prefetch\"/>\n",
            "  <link href=\"https://m.media-amazon.com\" rel=\"dns-prefetch\"/>\n",
            "  <link href=\"https://completion.amazon.com\" rel=\"dns-prefetch\"/>\n",
            "  <!-- sp:end-feature:cs-optimization -->\n",
            "  <!-- sp:feature:csm:head-open-part2 -->\n",
            "  <script type=\"text/javascript\">\n",
            "   window.ue_ihb = (window.ue_ihb || window.ueinit || 0) + 1;\n",
            "if (window.ue_ihb === 1) {\n",
            "\n",
            "var ue_csm = window,\n",
            "    ue_hob = +new Date();\n",
            "(function(d){var e=d.ue=d.ue||{\n"
          ]
        }
      ]
    },
    {
      "cell_type": "code",
      "source": [
        "titles = []\n",
        "prices = []\n",
        "ratings = []"
      ],
      "metadata": {
        "id": "Mo-ZBkdK90Mk"
      },
      "execution_count": 14,
      "outputs": []
    },
    {
      "cell_type": "code",
      "source": [
        "products = soup.find_all('div', {'data-component-type': 's-search-result'})\n",
        "print(f\"Number of products found: {len(products)}\")"
      ],
      "metadata": {
        "id": "QHh4LxfazySZ",
        "outputId": "69c65999-aa9a-4457-ef67-6c82a54eed72",
        "colab": {
          "base_uri": "https://localhost:8080/"
        }
      },
      "execution_count": 15,
      "outputs": [
        {
          "output_type": "stream",
          "name": "stdout",
          "text": [
            "Number of products found: 16\n"
          ]
        }
      ]
    },
    {
      "cell_type": "code",
      "source": [
        "for product in products:\n",
        "    title = product.h2.text.strip() if product.h2 else \"N/A\"\n",
        "\n",
        "    price = product.find('span', 'a-price-whole')\n",
        "    price = price.text.strip() if price else \"N/A\"\n",
        "\n",
        "    rating = product.find('span', {'class': 'a-icon-alt'})\n",
        "    rating = rating.text.strip() if rating else \"N/A\"\n",
        "\n",
        "    titles.append(title)\n",
        "    prices.append(price)\n",
        "    ratings.append(rating)\n",
        "\n",
        "    print(f\"Title: {title}\")\n",
        "    print(f\"Price: {price}\")\n",
        "    print(f\"Rating: {rating}\")\n",
        "    print(\"-\" * 40)"
      ],
      "metadata": {
        "colab": {
          "base_uri": "https://localhost:8080/"
        },
        "id": "kwwCE5KlGRVs",
        "outputId": "3227ef3e-f723-4367-922f-07bc4f5a45cf"
      },
      "execution_count": 16,
      "outputs": [
        {
          "output_type": "stream",
          "name": "stdout",
          "text": [
            "Title: (Refurbished) Lenovo ThinkPad 8th Gen Intel Core i5 Thin & Light HD Laptop (16 GB DDR4 RAM/512 GB SSD/14 (35.6 cm) HD/Windows 11/MS Office/WiFi/Bluetooth 4.1/Webcam/Intel Graphics)\n",
            "Price: 18,805\n",
            "Rating: 4.2 out of 5 stars\n",
            "----------------------------------------\n",
            "Title: Apple MacBook Air Laptop: Apple M1 chip, 13.3-inch/33.74 cm Retina Display, 8GB RAM, 256GB SSD Storage, Backlit Keyboard, FaceTime HD Camera, Touch ID. Works with iPhone/iPad; Space Grey\n",
            "Price: 56,990\n",
            "Rating: 4.6 out of 5 stars\n",
            "----------------------------------------\n",
            "Title: (Refurbished) HP EliteBook 820 G4 7th Gen Intel Core i5 Thin & Light HD Laptop (8 GB DDR4 RAM|256 GB SSD|12.5\" (31.8 cm) HD|Windows 11|MS Office|WiFi|Webcam|Intel HD Graphics)\n",
            "Price: 14,499\n",
            "Rating: 4.0 out of 5 stars\n",
            "----------------------------------------\n",
            "Title: Acer Aspire 3 Laptop Intel Core Celeron N4500 Processor Laptop (8 GB LPDDR4X SDRAM/512 GB SSD/Win11 Home/38 WHR/HD Webcam) A325-45 with 39.63 cm (15.6\") HD Display, Pure Silver, 1.5 KG\n",
            "Price: 21,990\n",
            "Rating: 3.2 out of 5 stars\n",
            "----------------------------------------\n",
            "Title: HP Laptop 15s, 12th Gen Intel Core i3, 15.6-inch (39.6 cm), 8GB DDR4, 512GB SSD, Thin & Light, Dual Speakers (Win 11, MSO 2021, Silver, 1.69 kg), fq5007TU / FQ5327TU\n",
            "Price: 35,990\n",
            "Rating: 4.0 out of 5 stars\n",
            "----------------------------------------\n",
            "Title: Lenovo IdeaPad Slim 1 Intel Core Celeron N4020 14\" HD Thin and Light Laptop (8GB/512GB SSD/Windows 11 Home/Office 21/1Yr Warranty/Cloud Grey/1.3Kg), 82V6009LIN\n",
            "Price: 23,990\n",
            "Rating: 3.1 out of 5 stars\n",
            "----------------------------------------\n",
            "Title: Lenovo V14 G3 (2024), Intel Core i5 12th Gen 1235U /16GB/512GB SSD/Intel UHD Graphics/Windows 11/ Thin and Light Business Laptop/14.0\" FHD Display/Iron Grey/1.57 kg/MS Office\n",
            "Price: 39,000\n",
            "Rating: 4.5 out of 5 stars\n",
            "----------------------------------------\n",
            "Title: Dell [Smartchoice] Core i3-1215U, 12th Gen (8GB RAM/512GB SSD/FHD/Window 11/MS Office' 21/15\"(38 cm)/15 Month McAfee/Black/1.69kg Laptop\n",
            "Price: 33,990\n",
            "Rating: 3.6 out of 5 stars\n",
            "----------------------------------------\n",
            "Title: HP 15 Intel Core i5 13th Gen (16GB Ram/512GB SSD/Fhd/Windows 11/Ms Office/Backlit Kb/15.6\" (39.6Cm)/Silver/1.59Kg) Fd0316Tu Laptop\n",
            "Price: 53,990\n",
            "Rating: 3.9 out of 5 stars\n",
            "----------------------------------------\n",
            "Title: Acer Aspire 3 Laptop Intel Core Celeron N4500 Processor Laptop (8 GB LPDDR4X SDRAM/256 GB SSD/Win11 Home/38 WHR/HD Webcam) A325-45 with 39.63 cm (15.6\") HD Display, Pure Silver, 1.5 KG\n",
            "Price: 20,990\n",
            "Rating: 3.2 out of 5 stars\n",
            "----------------------------------------\n",
            "Title: (Refurbished) Lenovo ThinkPad T480 8th Gen Intel Core i7 Thin & Light Laptop (16 GB DDR4 RAM/512 GB SSD/14 (35.6 cm) HD/Windows 11/WiFi/Bluetooth 4.1/Webcam/Intel HD Graphics),Black\n",
            "Price: 20,199\n",
            "Rating: 2.9 out of 5 stars\n",
            "----------------------------------------\n",
            "Title: Dell Inspiron 3535, AMD Ryzen 3 7320U Processor, (8GB RAM/512GB SSD/Window 11/MS Office' 21/15.6\"(39.62 cm) FHD Display/15 Month McAfee/Carbon Black/1.67kg Thin & Light Laptop\n",
            "Price: 29,990\n",
            "Rating: 3.8 out of 5 stars\n",
            "----------------------------------------\n",
            "Title: Acer Chromebook CB315-4H Intel Celeron N4500 (Chrome OS/8 GB RAM/128 GB/WiFi 6) 39.6 cm (15.6\") Full HD, Silver, 1.6 KG, 3 Months Google One AI Premium Plan with Gemini Advanced & 2TB Cloud Storage\n",
            "Price: 16,490\n",
            "Rating: 3.5 out of 5 stars\n",
            "----------------------------------------\n",
            "Title: HP 15S Intel Core i3 12th Gen (8GB Ram/512GB SSD/Fhd/Ms Office 21/Windows 11/15.6\" (39.6Cm)/Silver/1.69 Kg) Fy5011Tu Laptop\n",
            "Price: 34,990\n",
            "Rating: 3.9 out of 5 stars\n",
            "----------------------------------------\n",
            "Title: Lenovo V15 G4 AMD Athlon Silver 7120U Laptop 8GB LPDDR5 Ram, 512 GB SSD PCIe, Windows 11 Lifetime Validity,15.6\" FHD Screen, AMD Radeon 610M, Silver, 1 Year Brand Warranty\n",
            "Price: 24,990\n",
            "Rating: 4.0 out of 5 stars\n",
            "----------------------------------------\n",
            "Title: HP 15S Intel Core i3 12th Gen (8GB Ram/512 GB SSD/Fhd/Windows 11/Ms Office 21/15.6\" (39.6Cm)/Silver/1.69Kg) Fy5006Tu Laptop\n",
            "Price: 35,490\n",
            "Rating: 4.1 out of 5 stars\n",
            "----------------------------------------\n"
          ]
        }
      ]
    },
    {
      "cell_type": "code",
      "source": [
        "data = {\n",
        "    'Title': titles,\n",
        "    'Price': prices,\n",
        "    'Rating': ratings,\n",
        "}\n",
        "df = pd.DataFrame(data)\n"
      ],
      "metadata": {
        "id": "8jQs6YSqz01a"
      },
      "execution_count": 17,
      "outputs": []
    },
    {
      "cell_type": "code",
      "source": [
        "df.to_csv('amazon_products.csv', index=False)\n",
        "\n",
        "print(\"Data has been saved to amazon_products.csv\")"
      ],
      "metadata": {
        "id": "n7DzHyRmz5wI",
        "colab": {
          "base_uri": "https://localhost:8080/"
        },
        "outputId": "906c61db-7bec-4149-9cd6-cab478c2f2e1"
      },
      "execution_count": 18,
      "outputs": [
        {
          "output_type": "stream",
          "name": "stdout",
          "text": [
            "Data has been saved to amazon_products.csv\n"
          ]
        }
      ]
    }
  ],
  "metadata": {
    "colab": {
      "provenance": [],
      "include_colab_link": true
    },
    "kernelspec": {
      "display_name": "Python 3",
      "name": "python3"
    }
  },
  "nbformat": 4,
  "nbformat_minor": 0
}